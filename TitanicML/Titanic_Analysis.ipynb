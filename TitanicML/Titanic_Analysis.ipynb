{
  "nbformat": 4,
  "nbformat_minor": 0,
  "metadata": {
    "colab": {
      "provenance": []
    },
    "kernelspec": {
      "name": "python3",
      "display_name": "Python 3"
    },
    "language_info": {
      "name": "python"
    }
  },
  "cells": [
    {
      "cell_type": "markdown",
      "source": [
        "# Parth Lahane\n",
        "## 1001912459"
      ],
      "metadata": {
        "id": "0LV8F_eLqb52"
      }
    },
    {
      "cell_type": "markdown",
      "source": [
        "Importing Libraries"
      ],
      "metadata": {
        "id": "2fwopErn6fbP"
      }
    },
    {
      "cell_type": "code",
      "source": [
        "import pandas as pd\n",
        "import numpy as np\n",
        "import matplotlib.pyplot as plt\n",
        "import seaborn as sns"
      ],
      "metadata": {
        "id": "Ax_Vi0kj5Koa"
      },
      "execution_count": null,
      "outputs": []
    },
    {
      "cell_type": "markdown",
      "source": [
        "Fetch titanic dataset from github"
      ],
      "metadata": {
        "id": "3uVX-leK66IE"
      }
    },
    {
      "cell_type": "code",
      "source": [
        "url = \"https://raw.githubusercontent.com/datasciencedojo/datasets/master/titanic.csv\"\n",
        "titanic = pd.read_csv(url)"
      ],
      "metadata": {
        "id": "xxh7ZGLC5Qwi"
      },
      "execution_count": null,
      "outputs": []
    },
    {
      "cell_type": "markdown",
      "source": [
        "Categorise data as required"
      ],
      "metadata": {
        "id": "vShZj1Db6_wy"
      }
    },
    {
      "cell_type": "code",
      "source": [
        "# ref : https://towardsdatascience.com/creating-conditional-columns-on-pandas-with-numpy-select-and-where-methods-8ee6e2dbd5d5\n",
        "\n",
        "def Preprocess(option):\n",
        "  values = []\n",
        "  conditions = []\n",
        "  preprocessed = []\n",
        "  if option == 'Sex':\n",
        "    values = ['male', 'female']\n",
        "\n",
        "  elif option == 'Age':\n",
        "    conditions = [\n",
        "                  (titanic['Age'] <= 18),\n",
        "        (titanic['Age'] > 18) & (titanic['Age'] <= 45),\n",
        "        (titanic['Age'] > 45)\n",
        "    ]\n",
        "    values = ['young', 'middle', 'old']\n",
        "\n",
        "  elif option == 'Fare':\n",
        "    mean = np.mean(titanic['Fare'])\n",
        "    conditions = [\n",
        "                  (titanic['Fare'] < mean),\n",
        "                  (titanic['Fare'] >= mean)\n",
        "    ]\n",
        "    values = ['poor', 'rich']\n",
        "\n",
        "  elif option == 'Pclass':\n",
        "     values = [1, 2, 3]\n",
        "\n",
        "  if option != 'Sex' and option != 'Pclass':\n",
        "    preprocessed = np.select(conditions, values)\n",
        "  return preprocessed, values"
      ],
      "metadata": {
        "id": "-2CGeVb55v7q"
      },
      "execution_count": null,
      "outputs": []
    },
    {
      "cell_type": "markdown",
      "source": [
        "get total of the category"
      ],
      "metadata": {
        "id": "S4LPsKlr7i0H"
      }
    },
    {
      "cell_type": "code",
      "source": [
        "def totalRows(option):\n",
        "  filtered = []\n",
        "  columns = titanic[option].unique()\n",
        "  for column in columns:\n",
        "    filtered.append(len(titanic[titanic[option] == column]))\n",
        "  return filtered"
      ],
      "metadata": {
        "id": "cYSqm-J850Ym"
      },
      "execution_count": null,
      "outputs": []
    },
    {
      "cell_type": "markdown",
      "source": [
        "fetches rows of records that survived for a category"
      ],
      "metadata": {
        "id": "ha1I7sJyUZ0T"
      }
    },
    {
      "cell_type": "code",
      "source": [
        "def getSurvived(option):\n",
        "  survived = []\n",
        "  columns = titanic[option].unique()\n",
        "  for column in columns:\n",
        "    filtered  = titanic[titanic[option] == column]\n",
        "    survived.append(len(filtered[filtered[\"Survived\"] == 1]))\n",
        "  return survived"
      ],
      "metadata": {
        "id": "a7Q51ASQ54VQ"
      },
      "execution_count": null,
      "outputs": []
    },
    {
      "cell_type": "markdown",
      "source": [
        "displays percentages of survived vs total"
      ],
      "metadata": {
        "id": "qrvoRDb8USVb"
      }
    },
    {
      "cell_type": "code",
      "source": [
        "def displayResults(total, survivors, option, values):\n",
        "  print(\"\\n\\n\")\n",
        "  print(\"Results \" + option + \":\")\n",
        "  print(\"\\n\\n\")\n",
        "  for i in range(0, len(total)):\n",
        "    print(str(values[i]) + \" percentage = \" + str(survivors[i]/total[i]))\n",
        "  print(\"\\n\\n\")"
      ],
      "metadata": {
        "id": "0K_IhewX586Z"
      },
      "execution_count": null,
      "outputs": []
    },
    {
      "cell_type": "markdown",
      "source": [
        "Graph results as histogram"
      ],
      "metadata": {
        "id": "d_hfEarQT1s0"
      }
    },
    {
      "cell_type": "code",
      "execution_count": null,
      "metadata": {
        "id": "okIdjohpYFn9"
      },
      "outputs": [],
      "source": [
        "# ref: https://www.tutorialspoint.com/matplotlib/matplotlib_histogram.htm\n",
        "def graphResults(total, survivors, option, values):\n",
        "  difference = []\n",
        "  zip_object = zip(total, survivors)\n",
        "  for list1_i, list2_i in zip_object:\n",
        "    difference.append(list1_i-list2_i)\n",
        "  ind = np.arange(len(total))\n",
        "  width = 0.35\n",
        "  fig = plt.figure()\n",
        "  ax = fig.add_axes([0,0,1,1])\n",
        "  ax.bar(ind, survivors, width, color='lime')\n",
        "  ax.bar(ind, difference, width,bottom=survivors, color='maroon')\n",
        "  ax.set_ylabel('Survivors')\n",
        "  ax.set_title('Survival Analysis based on ' + str(option))\n",
        "  ax.set_xticks(ind)\n",
        "  ax.set_xticklabels(values)\n",
        "  ax.legend(labels=['Survived', 'Did not Survive'])\n",
        "  plt.show()"
      ]
    },
    {
      "cell_type": "markdown",
      "source": [
        "Main Block"
      ],
      "metadata": {
        "id": "Y5mbsrlaTxDR"
      }
    },
    {
      "cell_type": "code",
      "source": [
        "def titanicAnalysis(option):\n",
        "  titanic.dropna(subset = [option], inplace=True)\n",
        "\n",
        "  preprocessed, values = Preprocess(option)\n",
        "\n",
        "  if option != 'Sex' and option != 'Pclass':\n",
        "    titanic[option] = preprocessed\n",
        "\n",
        "  total = totalRows(option)\n",
        "\n",
        "  survivors = getSurvived(option)\n",
        "\n",
        "  displayResults(total, survivors, option, values)\n",
        "\n",
        "  graphResults(total, survivors, option, values)  "
      ],
      "metadata": {
        "id": "w3xizZGofEds"
      },
      "execution_count": null,
      "outputs": []
    },
    {
      "cell_type": "code",
      "source": [
        "option = \"Sex\"\n",
        "# option = \"Age\"\n",
        "# option = \"Fare\"\n",
        "# option = \"Pclass\"\n",
        "\n",
        "titanicAnalysis(option)"
      ],
      "metadata": {
        "colab": {
          "base_uri": "https://localhost:8080/",
          "height": 560
        },
        "id": "OYUQypn1fhCX",
        "outputId": "0c330f04-5a03-4e8e-de3a-484fed3ef3c2"
      },
      "execution_count": null,
      "outputs": [
        {
          "output_type": "stream",
          "name": "stdout",
          "text": [
            "\n",
            "\n",
            "\n",
            "Results Sex:\n",
            "\n",
            "\n",
            "\n",
            "male percentage = 0.18890814558058924\n",
            "female percentage = 0.7420382165605095\n",
            "\n",
            "\n",
            "\n"
          ]
        },
        {
          "output_type": "display_data",
          "data": {
            "image/png": "[encoded data removed]",
            "text/plain": [
              "<Figure size 432x288 with 1 Axes>"
            ]
          },
          "metadata": {
            "needs_background": "light"
          }
        }
      ]
    }
  ]
}